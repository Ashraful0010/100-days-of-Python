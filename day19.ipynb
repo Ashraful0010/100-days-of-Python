{
 "cells": [
  {
   "cell_type": "markdown",
   "id": "8d33f1eb-09ea-429c-8004-4155f9b4f33b",
   "metadata": {},
   "source": [
    "## Finally clause"
   ]
  },
  {
   "cell_type": "code",
   "execution_count": 11,
   "id": "8e474355-3a2c-49dc-8e6b-bcffcd9caaa4",
   "metadata": {},
   "outputs": [
    {
     "name": "stdin",
     "output_type": "stream",
     "text": [
      "Enter the index number:  1\n"
     ]
    },
    {
     "name": "stdout",
     "output_type": "stream",
     "text": [
      "5\n",
      "I am always executed!\n"
     ]
    }
   ],
   "source": [
    "try:\n",
    "    l=[1,5,12,9]\n",
    "    i=int(input(\"Enter the index number: \"))\n",
    "    print(l[i])\n",
    "except:\n",
    "    print(\"Some error occurred!\")\n",
    "    \n",
    "finally:  #no metter what this part of te code will always execute !\n",
    "    print(\"I am always executed!\") "
   ]
  },
  {
   "cell_type": "code",
   "execution_count": 17,
   "id": "35df99ae-c5b7-4b3a-baab-f9899a0d2259",
   "metadata": {},
   "outputs": [
    {
     "name": "stdout",
     "output_type": "stream",
     "text": [
      "12\n",
      "I am always executed!\n"
     ]
    },
    {
     "data": {
      "text/plain": [
       "1"
      ]
     },
     "execution_count": 17,
     "metadata": {},
     "output_type": "execute_result"
    }
   ],
   "source": [
    "def func(i):\n",
    "    try:\n",
    "        l=[1,5,12,9]\n",
    "        print(l[i])\n",
    "        return 1\n",
    "    except:\n",
    "        print(\"Some error occurred!\")\n",
    "        return 0\n",
    "    \n",
    "    finally:  #no metter what this part of te code will always execute !\n",
    "        print(\"I am always executed!\") \n",
    "func(2)"
   ]
  },
  {
   "cell_type": "code",
   "execution_count": null,
   "id": "fd29e82c-2966-41fc-8981-40efe6816fb5",
   "metadata": {},
   "outputs": [],
   "source": []
  }
 ],
 "metadata": {
  "kernelspec": {
   "display_name": "Python 3 (ipykernel)",
   "language": "python",
   "name": "python3"
  },
  "language_info": {
   "codemirror_mode": {
    "name": "ipython",
    "version": 3
   },
   "file_extension": ".py",
   "mimetype": "text/x-python",
   "name": "python",
   "nbconvert_exporter": "python",
   "pygments_lexer": "ipython3",
   "version": "3.12.4"
  }
 },
 "nbformat": 4,
 "nbformat_minor": 5
}
