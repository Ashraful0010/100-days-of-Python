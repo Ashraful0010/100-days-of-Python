{
 "cells": [
  {
   "cell_type": "code",
   "execution_count": 4,
   "id": "208a8f04-477d-4ec0-bb86-0643287b0e06",
   "metadata": {},
   "outputs": [
    {
     "name": "stdout",
     "output_type": "stream",
     "text": [
      "H\n",
      "a\n",
      "l\n",
      "a\n",
      " \n",
      "M\n",
      "a\n",
      "d\n",
      "r\n",
      "i\n",
      "d\n"
     ]
    }
   ],
   "source": [
    "# For loop in python\n",
    "name=\"Hala Madrid\"\n",
    "\n",
    "for character in name:\n",
    "    print(character)"
   ]
  },
  {
   "cell_type": "code",
   "execution_count": 14,
   "id": "fa801100-0df5-405e-8678-40a995a65ff8",
   "metadata": {},
   "outputs": [
    {
     "name": "stdout",
     "output_type": "stream",
     "text": [
      "hra\n",
      "Length of Ashraful is 8\n"
     ]
    }
   ],
   "source": [
    "name=\"Ashraful\"\n",
    "print(name[2:5]) \n",
    "#1st digit is starting index and 2nd digit is ending index\n",
    "#python does not print ending index\n",
    "\n",
    "#len() function to print the length of a string \n",
    "print(\"Length of\",name,\"is\",len(name))\n"
   ]
  },
  {
   "cell_type": "code",
   "execution_count": 33,
   "id": "fa263655-2103-480b-b14b-e44fe23d8671",
   "metadata": {},
   "outputs": [
    {
     "name": "stdout",
     "output_type": "stream",
     "text": [
      "8\n",
      "ra\n"
     ]
    }
   ],
   "source": [
    "name=\"Ashraful\"\n",
    "print(len(name))\n",
    "print(name[-5:-3]) \n",
    "#in this case we have to minus the numbers from the length of the string\n",
    "#for example \" print(name[len(name)-1:-len(name)2]) \"    both are the same"
   ]
  },
  {
   "cell_type": "code",
   "execution_count": null,
   "id": "e143f86c-3754-4227-a313-6825685e0e66",
   "metadata": {},
   "outputs": [],
   "source": []
  },
  {
   "cell_type": "code",
   "execution_count": null,
   "id": "ea0b3b87-45bc-46e4-8985-e054797c9022",
   "metadata": {},
   "outputs": [],
   "source": []
  }
 ],
 "metadata": {
  "kernelspec": {
   "display_name": "Python 3 (ipykernel)",
   "language": "python",
   "name": "python3"
  },
  "language_info": {
   "codemirror_mode": {
    "name": "ipython",
    "version": 3
   },
   "file_extension": ".py",
   "mimetype": "text/x-python",
   "name": "python",
   "nbconvert_exporter": "python",
   "pygments_lexer": "ipython3",
   "version": "3.12.4"
  }
 },
 "nbformat": 4,
 "nbformat_minor": 5
}
