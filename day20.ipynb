{
 "cells": [
  {
   "cell_type": "markdown",
   "id": "c42f8718-8fd1-4e35-be5c-c3fba119b882",
   "metadata": {},
   "source": [
    "## Raising Custom Errors"
   ]
  },
  {
   "cell_type": "code",
   "execution_count": 13,
   "id": "f4c0edbb-ff92-4623-a3c7-09533b292862",
   "metadata": {},
   "outputs": [
    {
     "name": "stdin",
     "output_type": "stream",
     "text": [
      "Enter a value between 5 and 9:  10\n"
     ]
    },
    {
     "ename": "ValueError",
     "evalue": "Value should be between 5 and 9",
     "output_type": "error",
     "traceback": [
      "\u001b[1;31m---------------------------------------------------------------------------\u001b[0m",
      "\u001b[1;31mValueError\u001b[0m                                Traceback (most recent call last)",
      "Cell \u001b[1;32mIn[13], line 4\u001b[0m\n\u001b[0;32m      1\u001b[0m a\u001b[38;5;241m=\u001b[39m \u001b[38;5;28mint\u001b[39m(\u001b[38;5;28minput\u001b[39m(\u001b[38;5;124m\"\u001b[39m\u001b[38;5;124mEnter a value between 5 and 9: \u001b[39m\u001b[38;5;124m\"\u001b[39m))\n\u001b[0;32m      3\u001b[0m \u001b[38;5;28;01mif\u001b[39;00m (a\u001b[38;5;241m<\u001b[39m\u001b[38;5;241m5\u001b[39m \u001b[38;5;129;01mor\u001b[39;00m a\u001b[38;5;241m>\u001b[39m\u001b[38;5;241m9\u001b[39m):\n\u001b[1;32m----> 4\u001b[0m     \u001b[38;5;28;01mraise\u001b[39;00m \u001b[38;5;167;01mValueError\u001b[39;00m(\u001b[38;5;124m\"\u001b[39m\u001b[38;5;124mValue should be between 5 and 9\u001b[39m\u001b[38;5;124m\"\u001b[39m)\n",
      "\u001b[1;31mValueError\u001b[0m: Value should be between 5 and 9"
     ]
    }
   ],
   "source": [
    "a= int(input(\"Enter a value between 5 and 9: \"))\n",
    "\n",
    "if (a<5 or a>9):\n",
    "    raise ValueError(\"Value should be between 5 and 9\")"
   ]
  },
  {
   "cell_type": "code",
   "execution_count": null,
   "id": "323feb23-aecf-4ca4-9d25-c0b2061b9705",
   "metadata": {},
   "outputs": [],
   "source": [
    "a= input(\"Enter a value between 5 and 9: \")\n",
    "\n",
    "if (a==\"quit\"):\n",
    "    print(\"No error!\")\n",
    "elif int(a)<5 or int(a)>9:\n",
    "    raise ValueError(\"Value should be between 5 and 9\")"
   ]
  },
  {
   "cell_type": "markdown",
   "id": "b97d150a-6352-4989-8539-734427e57f05",
   "metadata": {},
   "source": [
    "End of #day20  video #38 "
   ]
  },
  {
   "cell_type": "code",
   "execution_count": null,
   "id": "aa4cf6d5-bde0-4a49-9fa9-f2fe34285f69",
   "metadata": {},
   "outputs": [],
   "source": []
  }
 ],
 "metadata": {
  "kernelspec": {
   "display_name": "Python 3 (ipykernel)",
   "language": "python",
   "name": "python3"
  },
  "language_info": {
   "codemirror_mode": {
    "name": "ipython",
    "version": 3
   },
   "file_extension": ".py",
   "mimetype": "text/x-python",
   "name": "python",
   "nbconvert_exporter": "python",
   "pygments_lexer": "ipython3",
   "version": "3.12.4"
  }
 },
 "nbformat": 4,
 "nbformat_minor": 5
}
