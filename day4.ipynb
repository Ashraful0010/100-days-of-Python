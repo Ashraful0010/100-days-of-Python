{
 "cells": [
  {
   "cell_type": "code",
   "execution_count": 14,
   "id": "062a0571-b582-4b0e-bca5-2461787ea2dc",
   "metadata": {},
   "outputs": [
    {
     "name": "stdout",
     "output_type": "stream",
     "text": [
      "(8+2j)\n",
      "True\n",
      "Opu\n",
      "6\n",
      "3.33\n",
      "Type of a is:  <class 'complex'>\n",
      "Type of b is:  <class 'bool'>\n",
      "Type of c is:  <class 'str'>\n",
      "Type of d is:  <class 'int'>\n",
      "Type of e is:  <class 'float'>\n"
     ]
    }
   ],
   "source": [
    "#Variables and data types\n",
    "\n",
    "a = complex(8, 2)\n",
    "b = True\n",
    "c = \"Opu\"\n",
    "d = 6\n",
    "e = 3.33\n",
    "print(a)\n",
    "print(b)\n",
    "print(c)\n",
    "print(d)\n",
    "print(e)\n",
    "\n",
    "print(\"Type of a is: \", type(a))\n",
    "print(\"Type of b is: \", type(b))\n",
    "print(\"Type of c is: \", type(c))\n",
    "print(\"Type of d is: \", type(d))\n",
    "print(\"Type of e is: \", type(e))\n"
   ]
  },
  {
   "cell_type": "code",
   "execution_count": 35,
   "id": "566ae1b6-758f-4117-b566-4f45158ee062",
   "metadata": {},
   "outputs": [
    {
     "name": "stdout",
     "output_type": "stream",
     "text": [
      "[8, 3, 'OPU', 55, 'dUH', 20]\n"
     ]
    }
   ],
   "source": [
    "list1 = [8,3, \"OPU\", \"dUH\"]\n",
    "list1.insert(3,55) #inster is used to add something in a list in a specific place (first index number then value)\n",
    "list1.append(20) #append is used to add something at the end of the list \n",
    "print(list1)\n"
   ]
  },
  {
   "cell_type": "code",
   "execution_count": 43,
   "id": "59daa44a-10f3-44b9-88bb-89fa5c54f0eb",
   "metadata": {},
   "outputs": [
    {
     "name": "stdout",
     "output_type": "stream",
     "text": [
      "(5, 4, 9, 4, 'OPU')\n"
     ]
    }
   ],
   "source": [
    "tuple1=(5,4,9,4, \"OPU\")\n",
    "# tuple1.append(20)  [Tuple cannot be changed]\n",
    "print(tuple1)"
   ]
  },
  {
   "cell_type": "code",
   "execution_count": 45,
   "id": "2b5afc01-e17a-4a87-8bee-62b089c37542",
   "metadata": {},
   "outputs": [
    {
     "name": "stdout",
     "output_type": "stream",
     "text": [
      "{'Name': 'Opu', 'Age': 22, 'Sex': 'Male'}\n"
     ]
    }
   ],
   "source": [
    "#dict= An unordered collection of data containing a key value pair\n",
    "dict1= {\"Name\":\"Opu\", \"Age\":22, \"Sex\": \"Male\"}\n",
    "print(dict1)"
   ]
  },
  {
   "cell_type": "code",
   "execution_count": null,
   "id": "f22d7db8-9f68-46fa-97f6-15e3af54760c",
   "metadata": {},
   "outputs": [],
   "source": []
  }
 ],
 "metadata": {
  "kernelspec": {
   "display_name": "Python 3 (ipykernel)",
   "language": "python",
   "name": "python3"
  },
  "language_info": {
   "codemirror_mode": {
    "name": "ipython",
    "version": 3
   },
   "file_extension": ".py",
   "mimetype": "text/x-python",
   "name": "python",
   "nbconvert_exporter": "python",
   "pygments_lexer": "ipython3",
   "version": "3.12.4"
  }
 },
 "nbformat": 4,
 "nbformat_minor": 5
}
