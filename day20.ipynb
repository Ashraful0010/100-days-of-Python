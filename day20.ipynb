{
 "cells": [
  {
   "cell_type": "markdown",
   "id": "c42f8718-8fd1-4e35-be5c-c3fba119b882",
   "metadata": {},
   "source": [
    "## Raising Custom Errors"
   ]
  },
  {
   "cell_type": "code",
   "execution_count": 13,
   "id": "f4c0edbb-ff92-4623-a3c7-09533b292862",
   "metadata": {},
   "outputs": [
    {
     "name": "stdin",
     "output_type": "stream",
     "text": [
      "Enter a value between 5 and 9:  10\n"
     ]
    },
    {
     "ename": "ValueError",
     "evalue": "Value should be between 5 and 9",
     "output_type": "error",
     "traceback": [
      "\u001b[1;31m---------------------------------------------------------------------------\u001b[0m",
      "\u001b[1;31mValueError\u001b[0m                                Traceback (most recent call last)",
      "Cell \u001b[1;32mIn[13], line 4\u001b[0m\n\u001b[0;32m      1\u001b[0m a\u001b[38;5;241m=\u001b[39m \u001b[38;5;28mint\u001b[39m(\u001b[38;5;28minput\u001b[39m(\u001b[38;5;124m\"\u001b[39m\u001b[38;5;124mEnter a value between 5 and 9: \u001b[39m\u001b[38;5;124m\"\u001b[39m))\n\u001b[0;32m      3\u001b[0m \u001b[38;5;28;01mif\u001b[39;00m (a\u001b[38;5;241m<\u001b[39m\u001b[38;5;241m5\u001b[39m \u001b[38;5;129;01mor\u001b[39;00m a\u001b[38;5;241m>\u001b[39m\u001b[38;5;241m9\u001b[39m):\n\u001b[1;32m----> 4\u001b[0m     \u001b[38;5;28;01mraise\u001b[39;00m \u001b[38;5;167;01mValueError\u001b[39;00m(\u001b[38;5;124m\"\u001b[39m\u001b[38;5;124mValue should be between 5 and 9\u001b[39m\u001b[38;5;124m\"\u001b[39m)\n",
      "\u001b[1;31mValueError\u001b[0m: Value should be between 5 and 9"
     ]
    }
   ],
   "source": [
    "a= int(input(\"Enter a value between 5 and 9: \"))\n",
    "\n",
    "if (a<5 or a>9):\n",
    "    raise ValueError(\"Value should be between 5 and 9\")"
   ]
  },
  {
   "cell_type": "code",
   "execution_count": 29,
   "id": "b3eab121-c4eb-4485-b5f8-477adfc717b3",
   "metadata": {},
   "outputs": [
    {
     "name": "stdin",
     "output_type": "stream",
     "text": [
      "Enter a value between 5 and 9:  99\n"
     ]
    },
    {
     "ename": "ValueError",
     "evalue": "Value should be between 5 and 9",
     "output_type": "error",
     "traceback": [
      "\u001b[1;31m---------------------------------------------------------------------------\u001b[0m",
      "\u001b[1;31mValueError\u001b[0m                                Traceback (most recent call last)",
      "Cell \u001b[1;32mIn[29], line 6\u001b[0m\n\u001b[0;32m      4\u001b[0m     \u001b[38;5;28mprint\u001b[39m(\u001b[38;5;124m\"\u001b[39m\u001b[38;5;124mNo error!\u001b[39m\u001b[38;5;124m\"\u001b[39m)\n\u001b[0;32m      5\u001b[0m \u001b[38;5;28;01melif\u001b[39;00m \u001b[38;5;28mint\u001b[39m(a)\u001b[38;5;241m<\u001b[39m\u001b[38;5;241m5\u001b[39m \u001b[38;5;129;01mor\u001b[39;00m \u001b[38;5;28mint\u001b[39m(a)\u001b[38;5;241m>\u001b[39m\u001b[38;5;241m9\u001b[39m:\n\u001b[1;32m----> 6\u001b[0m     \u001b[38;5;28;01mraise\u001b[39;00m \u001b[38;5;167;01mValueError\u001b[39;00m(\u001b[38;5;124m\"\u001b[39m\u001b[38;5;124mValue should be between 5 and 9\u001b[39m\u001b[38;5;124m\"\u001b[39m)\n",
      "\u001b[1;31mValueError\u001b[0m: Value should be between 5 and 9"
     ]
    }
   ],
   "source": [
    "a= input(\"Enter a value between 5 and 9: \")\n",
    "\n",
    "if (a==\"quit\"):\n",
    "    print(\"No error!\")\n",
    "elif int(a)<5 or int(a)>9:\n",
    "    raise ValueError(\"Value should be between 5 and 9\")"
   ]
  },
  {
   "cell_type": "code",
   "execution_count": null,
   "id": "f8aa76f7-c1a0-42d2-8fc0-2721706321e6",
   "metadata": {},
   "outputs": [],
   "source": []
  }
 ],
 "metadata": {
  "kernelspec": {
   "display_name": "Python 3 (ipykernel)",
   "language": "python",
   "name": "python3"
  },
  "language_info": {
   "codemirror_mode": {
    "name": "ipython",
    "version": 3
   },
   "file_extension": ".py",
   "mimetype": "text/x-python",
   "name": "python",
   "nbconvert_exporter": "python",
   "pygments_lexer": "ipython3",
   "version": "3.12.4"
  }
 },
 "nbformat": 4,
 "nbformat_minor": 5
}
