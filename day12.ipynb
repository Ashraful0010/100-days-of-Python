{
 "cells": [
  {
   "cell_type": "markdown",
   "id": "3f786e92-dd75-4391-ab01-946722d6f8ba",
   "metadata": {},
   "source": [
    "## Making a KBC "
   ]
  },
  {
   "cell_type": "code",
   "execution_count": 53,
   "id": "7f36669b-6eef-45e8-a367-d4849667db78",
   "metadata": {},
   "outputs": [],
   "source": [
    "name=str(input(\"What is your name?\"))\n",
    "print(\"So,\",name,\"Let's start KBC!\")\n",
    "print(\"\")\n",
    "\n",
    "ques=[\"Question 1: What is the capital of Bangladesh? Options: 1. Dhaka  2. Mymensingh  3. Narayanganj  4. Sherpur\",\n",
    "\"Question 2: What is the name of the currency of Bangladesh? Options: 1. Dollar  2. Taka  3. Ringit 4. Rupay\",\n",
    "\"Question 3: What is the longest beach in the world? Options: 1. Goa  2. Bali  3. Kolatoli  4. Cox's Bazar\"]\n",
    "\n",
    "wallet=0\n",
    "\n",
    "# Question 1\n",
    "print(ques[0])\n",
    "print(\"\")\n",
    "ans1=int(input(\"Type your answer: \"))\n",
    "if ans1==1:\n",
    "    print(\"This is the right answer!\")\n",
    "    wallet=wallet+100\n",
    "    print(\"\")\n",
    "    \n",
    "else:\n",
    "    print(\"This is the wrong answer!\")\n",
    "    wallet=wallet-100\n",
    "    print(\"\")\n",
    "\n",
    "#Question 2\n",
    "print(ques[1])\n",
    "print(\"\")\n",
    "ans2=int(input(\"Type your answer: \"))\n",
    "if ans2==2:\n",
    "    print(\"This is the right answer!\")\n",
    "    wallet=wallet+100\n",
    "    print(\"\")\n",
    "        \n",
    "else:\n",
    "    print(\"This is the wrong answer!\")\n",
    "    wallet=wallet-100\n",
    "    print(\"\")\n",
    "\n",
    "# Question 3\n",
    "print(ques[2])\n",
    "print(\"\")\n",
    "ans3=int(input(\"Type your answer: \"))\n",
    "if ans3==4:\n",
    "    print(\"This is the right answer!\")\n",
    "    wallet=wallet+100\n",
    "    print(\"\")\n",
    "        \n",
    "else:\n",
    "    print(\"This is the wrong answer!\")\n",
    "    wallet=wallet-100\n",
    "    print(\"\")\n",
    "\n",
    "\n",
    "print(\"Your balance is: \",wallet)"
   ]
  },
  {
   "cell_type": "code",
   "execution_count": null,
   "id": "a7474eff-4a8a-4c7c-bd22-df68ea78a5a1",
   "metadata": {},
   "outputs": [],
   "source": []
  }
 ],
 "metadata": {
  "kernelspec": {
   "display_name": "Python 3 (ipykernel)",
   "language": "python",
   "name": "python3"
  },
  "language_info": {
   "codemirror_mode": {
    "name": "ipython",
    "version": 3
   },
   "file_extension": ".py",
   "mimetype": "text/x-python",
   "name": "python",
   "nbconvert_exporter": "python",
   "pygments_lexer": "ipython3",
   "version": "3.12.4"
  }
 },
 "nbformat": 4,
 "nbformat_minor": 5
}
