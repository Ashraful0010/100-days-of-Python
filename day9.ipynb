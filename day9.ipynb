{
 "cells": [
  {
   "cell_type": "markdown",
   "id": "0448d053-f0e8-475d-8b17-ebf86c647cd8",
   "metadata": {},
   "source": [
    "## Break and Continue"
   ]
  },
  {
   "cell_type": "code",
   "execution_count": 11,
   "id": "9d8886c3-64a8-42fa-9a74-544100163c89",
   "metadata": {},
   "outputs": [
    {
     "name": "stdout",
     "output_type": "stream",
     "text": [
      "5 x 1 = 5\n",
      "5 x 2 = 10\n",
      "5 x 3 = 15\n",
      "5 x 4 = 20\n",
      "5 x 5 = 25\n",
      "5 x 6 = 30\n",
      "5 x 7 = 35\n",
      "5 x 8 = 40\n",
      "5 x 9 = 45\n",
      "5 x 10 = 50\n",
      "Loop ended\n"
     ]
    }
   ],
   "source": [
    "for i in range (12):\n",
    "    if(i==10):\n",
    "        break\n",
    "    print(\"5 x\",i+1,\"=\",5*(i+1))\n",
    "    \n",
    "print(\"Loop ended\")"
   ]
  },
  {
   "cell_type": "code",
   "execution_count": 15,
   "id": "a2a3c83f-5259-4bfa-b59b-d847bde48bec",
   "metadata": {},
   "outputs": [
    {
     "name": "stdout",
     "output_type": "stream",
     "text": [
      "5 x 0 = 0\n",
      "5 x 1 = 5\n",
      "5 x 2 = 10\n",
      "5 x 3 = 15\n",
      "5 x 4 = 20\n",
      "5 x 5 = 25\n",
      "5 x 6 = 30\n",
      "5 x 7 = 35\n",
      "5 x 8 = 40\n",
      "5 x 9 = 45\n",
      "Skip the iteration\n",
      "5 x 11 = 55\n",
      "5 x 12 = 60\n",
      "5 x 13 = 65\n",
      "5 x 14 = 70\n"
     ]
    }
   ],
   "source": [
    "for i in range(15):\n",
    "    if(i==10):\n",
    "        print(\"Skip the iteration\")\n",
    "        continue\n",
    "    print(\"5 x\",i,\"=\",5*i)"
   ]
  },
  {
   "cell_type": "code",
   "execution_count": 21,
   "id": "13850534-7175-4559-b23b-5e5cb9c93733",
   "metadata": {},
   "outputs": [],
   "source": [
    "while True:\n",
    "    print(i)\n",
    "    i=i+1\n",
    "    if(i%100==0):\n",
    "        break"
   ]
  },
  {
   "cell_type": "code",
   "execution_count": null,
   "id": "ed71d2b9-3fb9-49e3-bbf3-a6ce3ebd2769",
   "metadata": {},
   "outputs": [],
   "source": []
  }
 ],
 "metadata": {
  "kernelspec": {
   "display_name": "Python 3 (ipykernel)",
   "language": "python",
   "name": "python3"
  },
  "language_info": {
   "codemirror_mode": {
    "name": "ipython",
    "version": 3
   },
   "file_extension": ".py",
   "mimetype": "text/x-python",
   "name": "python",
   "nbconvert_exporter": "python",
   "pygments_lexer": "ipython3",
   "version": "3.12.4"
  }
 },
 "nbformat": 4,
 "nbformat_minor": 5
}
