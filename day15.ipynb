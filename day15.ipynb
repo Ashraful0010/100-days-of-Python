{
 "cells": [
  {
   "cell_type": "markdown",
   "id": "b1d88f94-841b-407d-a42f-9a0ca4992e04",
   "metadata": {},
   "source": [
    "## Disctionary"
   ]
  },
  {
   "cell_type": "code",
   "execution_count": 5,
   "id": "ef3ce896-f23d-4641-be31-3b84af7855b7",
   "metadata": {},
   "outputs": [
    {
     "name": "stdout",
     "output_type": "stream",
     "text": [
      "Opu is a student of computer science\n"
     ]
    }
   ],
   "source": [
    "dic={\n",
    "    \"Opu\": \"Opu is a student of computer science\",\n",
    "    \"Ashraful\": \"Ashraful wants to go to Australia\"\n",
    "}\n",
    "print(dic[\"Opu\"])"
   ]
  },
  {
   "cell_type": "code",
   "execution_count": 11,
   "id": "76fcd09b-adcb-45e9-be77-d30c81581528",
   "metadata": {},
   "outputs": [
    {
     "name": "stdout",
     "output_type": "stream",
     "text": [
      "Opu Toha\n"
     ]
    }
   ],
   "source": [
    "dic={\n",
    "    22: \"Opu\",\n",
    "    33: \"Toha\",\n",
    "    56: \"Talha\"\n",
    "}\n",
    "print(dic[22],dic[33])"
   ]
  },
  {
   "cell_type": "code",
   "execution_count": 23,
   "id": "9ce9bca2-42b4-49ad-b65f-6ca1e32e908d",
   "metadata": {},
   "outputs": [
    {
     "name": "stdout",
     "output_type": "stream",
     "text": [
      "{'name': 'Ashraful Islam Opu', 'age': 22, 'Sex': 'Male'}\n"
     ]
    }
   ],
   "source": [
    "info={\n",
    "    \"name\": \"Ashraful Islam Opu\",\n",
    "    \"age\": 22,\n",
    "    \"Sex\": \"Male\"\n",
    "}\n",
    "print(info)"
   ]
  },
  {
   "cell_type": "code",
   "execution_count": 25,
   "id": "aeaa7964-1743-49bf-a2e4-ca4139df2391",
   "metadata": {},
   "outputs": [
    {
     "name": "stdout",
     "output_type": "stream",
     "text": [
      "Ashraful Islam Opu\n",
      "Ashraful Islam Opu\n"
     ]
    }
   ],
   "source": [
    "info={\n",
    "    \"name\": \"Ashraful Islam Opu\",\n",
    "    \"age\": 22,\n",
    "    \"Sex\": \"Male\"\n",
    "}\n",
    "print(info[\"name\"])\n",
    "print(info.get(\"name\"))"
   ]
  },
  {
   "cell_type": "code",
   "execution_count": 35,
   "id": "bf05e9f1-b3dd-44c0-85ac-b9a870a35d99",
   "metadata": {},
   "outputs": [
    {
     "name": "stdout",
     "output_type": "stream",
     "text": [
      "{'name': 'Ashraful Islam Opu', 'age': 22, 'Sex': 'Male'}\n",
      "dict_keys(['name', 'age', 'Sex'])\n",
      "dict_values(['Ashraful Islam Opu', 22, 'Male'])\n",
      "\n",
      "The value of name is Ashraful Islam Opu\n",
      "The value of age is 22\n",
      "The value of Sex is Male\n"
     ]
    }
   ],
   "source": [
    "info={\n",
    "    \"name\": \"Ashraful Islam Opu\",\n",
    "    \"age\": 22,\n",
    "    \"Sex\": \"Male\"\n",
    "}\n",
    "print(info)\n",
    "print(info.keys())\n",
    "print(info.values())\n",
    "\n",
    "print()\n",
    "\n",
    "for key in info.keys():\n",
    "    print(f\"The value of {key} is {info[key]}\")\n"
   ]
  },
  {
   "cell_type": "code",
   "execution_count": 41,
   "id": "14c95464-dc1c-45fd-a4d7-6d9e10c6fc7e",
   "metadata": {},
   "outputs": [
    {
     "name": "stdout",
     "output_type": "stream",
     "text": [
      "dict_items([('name', 'Ashraful Islam Opu'), ('age', 22), ('Sex', 'Male')])\n",
      "The value of name is Ashraful Islam Opu\n",
      "The value of age is 22\n",
      "The value of Sex is Male\n"
     ]
    }
   ],
   "source": [
    "  info={\n",
    "    \"name\": \"Ashraful Islam Opu\",\n",
    "    \"age\": 22,\n",
    "    \"Sex\": \"Male\"\n",
    "}\n",
    "print(info.items())\n",
    "for key, value in info.items():\n",
    "    print(f\"The value of {key} is {value}\")"
   ]
  },
  {
   "cell_type": "code",
   "execution_count": null,
   "id": "ebad47d9-fea3-48fc-8482-722f7276c551",
   "metadata": {},
   "outputs": [],
   "source": []
  }
 ],
 "metadata": {
  "kernelspec": {
   "display_name": "Python 3 (ipykernel)",
   "language": "python",
   "name": "python3"
  },
  "language_info": {
   "codemirror_mode": {
    "name": "ipython",
    "version": 3
   },
   "file_extension": ".py",
   "mimetype": "text/x-python",
   "name": "python",
   "nbconvert_exporter": "python",
   "pygments_lexer": "ipython3",
   "version": "3.12.4"
  }
 },
 "nbformat": 4,
 "nbformat_minor": 5
}
