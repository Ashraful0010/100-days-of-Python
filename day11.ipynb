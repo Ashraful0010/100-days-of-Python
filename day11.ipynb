{
 "cells": [
  {
   "cell_type": "markdown",
   "id": "58e00ae5-e797-4bcb-9ff4-f972da89129b",
   "metadata": {},
   "source": [
    "## List"
   ]
  },
  {
   "cell_type": "code",
   "execution_count": 3,
   "id": "af78edf7-5598-4c60-9f8e-ce6ffae7e8e3",
   "metadata": {},
   "outputs": [
    {
     "name": "stdout",
     "output_type": "stream",
     "text": [
      "[10, 15, 14]\n",
      "10\n"
     ]
    }
   ],
   "source": [
    "marks=[10,15,14]\n",
    "print(marks)\n",
    "print(marks[0])"
   ]
  },
  {
   "cell_type": "code",
   "execution_count": 19,
   "id": "14033de7-92a7-4d6e-9f7a-e25614609c42",
   "metadata": {},
   "outputs": [
    {
     "name": "stdout",
     "output_type": "stream",
     "text": [
      "['Green', 'Blue', 'Yellow', 'Red']\n",
      "['Green', 'Pink', 'Yellow', 'Red']\n",
      "Yes!\n"
     ]
    }
   ],
   "source": [
    "colors=[\"Green\",\"Blue\",\"Yellow\",\"Red\"]\n",
    "print(colors)\n",
    "colors[1]=\"Pink\"\n",
    "print(colors)\n",
    "\n",
    "if (\"Yellow\" in colors):\n",
    "    print(\"Yes!\")\n",
    "else:\n",
    "    print(\"No!\")"
   ]
  },
  {
   "cell_type": "code",
   "execution_count": 25,
   "id": "357aa3e0-12a5-44c6-8ab2-79875b76c7c1",
   "metadata": {},
   "outputs": [
    {
     "name": "stdout",
     "output_type": "stream",
     "text": [
      "[2, 55, 4, 8, 4, 89, 4, 7, 8, 85, 12, 32, 7]\n",
      "[2, 8, 4, 85, 7]\n"
     ]
    }
   ],
   "source": [
    "marks=[2,55,4,8,4,89,4,7,8,85,12,32,7]\n",
    "print(marks[0:13])\n",
    "print(marks[0:13:3]) #3rd one is the jump value"
   ]
  },
  {
   "cell_type": "code",
   "execution_count": 29,
   "id": "179cffde-147f-438a-8534-a6f7bf1aaaf6",
   "metadata": {},
   "outputs": [
    {
     "name": "stdout",
     "output_type": "stream",
     "text": [
      "[0, 1, 4, 9, 16, 25]\n"
     ]
    }
   ],
   "source": [
    "list=[i*i for i in range (6)]   # we can use any expressio for i\n",
    "print(list)"
   ]
  },
  {
   "cell_type": "code",
   "execution_count": 73,
   "id": "29724d64-cab2-4e61-aded-efaa6c4f49e1",
   "metadata": {},
   "outputs": [
    {
     "name": "stdout",
     "output_type": "stream",
     "text": [
      "[5, 4, 9, 8, 7, 4]\n",
      "[5, 4, 9, 8, 7, 4, 10]\n",
      "[5, 199, 4, 9, 8, 7, 4, 10]\n",
      "[5, 199, 4, 9, 8, 7, 4, 10, 'Omen', 'Reyna', 'Viper', 'Sage']\n"
     ]
    }
   ],
   "source": [
    "l=[5,4,9,8,7,4]\n",
    "print(l)\n",
    "\n",
    "l.append(10) # it adds the given value at the end of the list\n",
    "print(l)\n",
    "\n",
    "l.insert(1,199) # it adds 199 in index number 1\n",
    "print(l)\n",
    "\n",
    "m=[\"Omen\",\"Reyna\",\"Viper\",\"Sage\"]\n",
    "l.extend(m) # it add another list at the end of the first list\n",
    "print(l)"
   ]
  },
  {
   "cell_type": "code",
   "execution_count": 69,
   "id": "c6457a3c-4d81-4ad0-a0d3-10f950ff2b39",
   "metadata": {},
   "outputs": [
    {
     "name": "stdout",
     "output_type": "stream",
     "text": [
      "[6, 5, 9, 2, 3, 45, 9, 41, 9, 7, 6, 8, 4, 88]\n",
      "Printing in normal order: [2, 3, 4, 5, 6, 6, 7, 8, 9, 9, 9, 41, 45, 88]\n",
      "Printing in reverse order: [88, 45, 41, 9, 9, 9, 8, 7, 6, 6, 5, 4, 3, 2]\n",
      "1\n"
     ]
    }
   ],
   "source": [
    "l=[6,5,9,2,3,45,9,41,9,7,6,8,4,88]\n",
    "print(l)\n",
    "l.sort()\n",
    "print(\"Printing in normal order:\",l)\n",
    "\n",
    "l.sort(reverse=True)  #sorts the list in reverse order\n",
    "print(\"Printing in reverse order:\",l)\n",
    "\n",
    "print(l.count(4))"
   ]
  },
  {
   "cell_type": "code",
   "execution_count": null,
   "id": "bfe76ca3-a157-4644-91b0-fc1cee3d96a9",
   "metadata": {},
   "outputs": [],
   "source": []
  }
 ],
 "metadata": {
  "kernelspec": {
   "display_name": "Python 3 (ipykernel)",
   "language": "python",
   "name": "python3"
  },
  "language_info": {
   "codemirror_mode": {
    "name": "ipython",
    "version": 3
   },
   "file_extension": ".py",
   "mimetype": "text/x-python",
   "name": "python",
   "nbconvert_exporter": "python",
   "pygments_lexer": "ipython3",
   "version": "3.12.4"
  }
 },
 "nbformat": 4,
 "nbformat_minor": 5
}
