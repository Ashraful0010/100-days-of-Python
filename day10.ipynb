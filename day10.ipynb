{
 "cells": [
  {
   "cell_type": "markdown",
   "id": "7846e7d2-b206-41b9-96c2-1de0c303c5d3",
   "metadata": {},
   "source": [
    "## Functions"
   ]
  },
  {
   "cell_type": "code",
   "execution_count": 9,
   "id": "c6d9cec0-22b0-4d16-99bc-88fd2671c896",
   "metadata": {},
   "outputs": [
    {
     "name": "stdout",
     "output_type": "stream",
     "text": [
      "Gmean of 10 and 9 is 4.7368421052631575\n",
      "Gmean of 9 and 8 is 4.235294117647059\n"
     ]
    }
   ],
   "source": [
    "def calculateGmean(a,b):\n",
    "    mean=(a*b)/(a+b)\n",
    "    print(\"Gmean of\",a,\"and\",b,\"is\",mean)\n",
    "\n",
    "a=10\n",
    "b=9\n",
    "calculateGmean(a,b)\n",
    "c=9\n",
    "d=8\n",
    "calculateGmean(c,d)"
   ]
  },
  {
   "cell_type": "code",
   "execution_count": 30,
   "id": "35461c4e-0b83-428f-8261-f1f06e64b856",
   "metadata": {},
   "outputs": [
    {
     "name": "stdout",
     "output_type": "stream",
     "text": [
      "First number is Greater\n",
      "Gmean of 10 and 9 is 4.7368421052631575\n",
      "\n",
      "Second number is Greater\n",
      "Gmean of 55 and 77 is 32.083333333333336\n",
      "\n",
      "Both numbers are equal\n",
      "Gmean of 44 and 44 is 22.0\n"
     ]
    }
   ],
   "source": [
    "def calculateGmean(a,b):\n",
    "    mean=(a*b)/(a+b)\n",
    "    print(\"Gmean of\",a,\"and\",b,\"is\",mean)\n",
    "\n",
    "def greaterNumber(a,b):\n",
    "    if(a>b):\n",
    "        print(\"First number is Greater\")\n",
    "    elif(a==b):\n",
    "        print(\"Both numbers are equal\")\n",
    "    else:\n",
    "        print(\"Second number is Greater\")\n",
    "\n",
    "a=10\n",
    "b=9\n",
    "c=55\n",
    "d=77\n",
    "e=44\n",
    "f=44\n",
    "\n",
    "# Calling functions\n",
    "\n",
    "greaterNumber(a,b)\n",
    "calculateGmean(a,b)\n",
    "print(\"\")\n",
    "\n",
    "greaterNumber(c,d)\n",
    "calculateGmean(c,d)\n",
    "print(\"\")\n",
    "\n",
    "greaterNumber(e,f)\n",
    "calculateGmean(e,f)\n"
   ]
  },
  {
   "cell_type": "markdown",
   "id": "3403f6d5-cc90-4858-b4bf-a51259fc0b56",
   "metadata": {},
   "source": [
    "## BMI Calculator"
   ]
  },
  {
   "cell_type": "code",
   "execution_count": 69,
   "id": "44c0c6b0-6f9f-4d5f-8c9d-e7140f2fbc8a",
   "metadata": {},
   "outputs": [
    {
     "name": "stdout",
     "output_type": "stream",
     "text": [
      "Your weight in Kg is 78\n",
      "Your height in meter is 1.78\n",
      "Your bmi is 24.61810377477591\n",
      "You're in the healthy weight range!\n"
     ]
    }
   ],
   "source": [
    "def calculateBMI(w,h):\n",
    "    bmi=w/(h*h)\n",
    "    print(\"Your weight in Kg is\",w)\n",
    "    print(\"Your height in meter is\",h)\n",
    "    print(\"Your bmi is\",bmi)\n",
    "    \n",
    "    if(bmi<18.5):\n",
    "        print(\"You're in the underweight range!\")\n",
    "    elif(bmi<=24.9 and bmi>=18.5):\n",
    "        print(\"You're in the healthy weight range!\")\n",
    "    else:\n",
    "        print(\"You're in the obese range!\")\n",
    "\n",
    "\n",
    "w=78\n",
    "h=1.78\n",
    "calculateBMI(w,h)"
   ]
  },
  {
   "cell_type": "markdown",
   "id": "681e1461-37b7-4cfd-ad60-c7e0cc1e04ed",
   "metadata": {},
   "source": [
    "## Function arguments and return statement"
   ]
  },
  {
   "cell_type": "code",
   "execution_count": 87,
   "id": "dde55df6-1798-4b87-b2b7-0da50da93a92",
   "metadata": {},
   "outputs": [
    {
     "name": "stdout",
     "output_type": "stream",
     "text": [
      "Hi, Ashraful Islam Opu\n",
      "Hi, Noob Master 69\n"
     ]
    }
   ],
   "source": [
    "def name(fName, mName=\"Islam\",lName=\"Opu\"):\n",
    "    print(\"Hi,\",fName,mName,lName)\n",
    "\n",
    "name(\"Ashraful\")\n",
    "name(\"Noob\",\"Master\",\"69\") "
   ]
  },
  {
   "cell_type": "code",
   "execution_count": 94,
   "id": "aab9ecab-321d-40d5-b398-9fee7ad962d9",
   "metadata": {},
   "outputs": [
    {
     "name": "stdout",
     "output_type": "stream",
     "text": [
      "Average is: 11.5\n"
     ]
    }
   ],
   "source": [
    "def average(*numbers): #by using this method we can work with values without limitations\n",
    "    sum=0\n",
    "    for i in numbers:\n",
    "        sum=sum+i\n",
    "    print(\"Average is:\",sum/ len(numbers))\n",
    "\n",
    "average(5,4,9,7,3,4,9,2,78,9,1,7)"
   ]
  },
  {
   "cell_type": "code",
   "execution_count": 109,
   "id": "d7800bcd-38e0-4079-aa66-ad2dfdd407ee",
   "metadata": {},
   "outputs": [
    {
     "name": "stdout",
     "output_type": "stream",
     "text": [
      "Average is: 22.833333333333332\n"
     ]
    }
   ],
   "source": [
    "def average(*numbers): \n",
    "    sum=0\n",
    "    for i in numbers:\n",
    "        sum=sum+i\n",
    "    return sum/ len(numbers)\n",
    "\n",
    "a=average(5,55,4,58,8,7) # storing the value of average in \"a\"\n",
    "print(\"Average is:\",a)"
   ]
  },
  {
   "cell_type": "code",
   "execution_count": null,
   "id": "656beb1e-f034-4811-9309-464f5cc73150",
   "metadata": {},
   "outputs": [],
   "source": []
  }
 ],
 "metadata": {
  "kernelspec": {
   "display_name": "Python 3 (ipykernel)",
   "language": "python",
   "name": "python3"
  },
  "language_info": {
   "codemirror_mode": {
    "name": "ipython",
    "version": 3
   },
   "file_extension": ".py",
   "mimetype": "text/x-python",
   "name": "python",
   "nbconvert_exporter": "python",
   "pygments_lexer": "ipython3",
   "version": "3.12.4"
  }
 },
 "nbformat": 4,
 "nbformat_minor": 5
}
