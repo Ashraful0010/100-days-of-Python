{
 "cells": [
  {
   "cell_type": "markdown",
   "id": "82249782-94f2-4ba9-839e-f4c73a7062e0",
   "metadata": {},
   "source": [
    "## Disctionary methods"
   ]
  },
  {
   "cell_type": "code",
   "execution_count": 7,
   "id": "977e5638-df9f-471f-948c-ed4c28ff4347",
   "metadata": {},
   "outputs": [
    {
     "name": "stdout",
     "output_type": "stream",
     "text": [
      "{124: 67, 128: 98, 986: 98}\n",
      "{124: 67, 128: 98, 986: 98, 222: 99, 545: 78}\n"
     ]
    }
   ],
   "source": [
    "ep1 = {124: 67, 128: 98, 986: 98} # storing rating of employees by their employee id\n",
    "ep2 = {222: 99, 545: 78}\n",
    "\n",
    "print(ep1)\n",
    "ep1.update(ep2)\n",
    "print(ep1)"
   ]
  },
  {
   "cell_type": "code",
   "execution_count": 11,
   "id": "943a27a0-ae3a-4d78-8607-13f07a4be894",
   "metadata": {},
   "outputs": [
    {
     "name": "stdout",
     "output_type": "stream",
     "text": [
      "{}\n"
     ]
    }
   ],
   "source": [
    "ep1 = {124: 67, 128: 98, 986: 98} # storing rating of employees by their employee id\n",
    "ep2 = {222: 99, 545: 78}\n",
    "\n",
    "ep1.clear() # this method clears every element in the dictionary\n",
    "print(ep1)"
   ]
  },
  {
   "cell_type": "code",
   "execution_count": 13,
   "id": "65c3b84d-8bf5-42a9-9dba-01b7716da2c0",
   "metadata": {},
   "outputs": [
    {
     "name": "stdout",
     "output_type": "stream",
     "text": [
      "{128: 98, 986: 98}\n"
     ]
    }
   ],
   "source": [
    "ep1 = {124: 67, 128: 98, 986: 98}\n",
    "\n",
    "ep1.pop(124) # this method removes the given item from the dictionary\n",
    "print(ep1)"
   ]
  },
  {
   "cell_type": "code",
   "execution_count": 15,
   "id": "aa4784cd-09f4-46c3-bbc3-7f56d947d5de",
   "metadata": {},
   "outputs": [
    {
     "name": "stdout",
     "output_type": "stream",
     "text": [
      "{124: 67, 128: 98}\n"
     ]
    }
   ],
   "source": [
    "ep1 = {124: 67, 128: 98, 986: 98}\n",
    "\n",
    "ep1.popitem() # this method removes the last item fromthe dictionary\n",
    "print(ep1)"
   ]
  },
  {
   "cell_type": "code",
   "execution_count": null,
   "id": "5c21df77-1a14-4469-96c6-134f80aabb0b",
   "metadata": {},
   "outputs": [],
   "source": [
    "# no more for today cz I'm in vacation :D"
   ]
  }
 ],
 "metadata": {
  "kernelspec": {
   "display_name": "Python 3 (ipykernel)",
   "language": "python",
   "name": "python3"
  },
  "language_info": {
   "codemirror_mode": {
    "name": "ipython",
    "version": 3
   },
   "file_extension": ".py",
   "mimetype": "text/x-python",
   "name": "python",
   "nbconvert_exporter": "python",
   "pygments_lexer": "ipython3",
   "version": "3.12.4"
  }
 },
 "nbformat": 4,
 "nbformat_minor": 5
}
