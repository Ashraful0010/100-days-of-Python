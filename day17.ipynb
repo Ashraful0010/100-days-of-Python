{
 "cells": [
  {
   "cell_type": "markdown",
   "id": "be9a2c8a-20df-4979-9ef6-da7263e5fca2",
   "metadata": {},
   "source": [
    "## For loop with else statement"
   ]
  },
  {
   "cell_type": "code",
   "execution_count": 3,
   "id": "63c47bf0-e1cd-4e71-8dc3-19ed09eaf213",
   "metadata": {},
   "outputs": [
    {
     "name": "stdout",
     "output_type": "stream",
     "text": [
      "0\n",
      "1\n",
      "2\n",
      "3\n",
      "4\n",
      "sorry no i\n"
     ]
    }
   ],
   "source": [
    "for i in range(5):\n",
    "    print(i)\n",
    "\n",
    "# else block appears after the loop body is complete running \n",
    "else:\n",
    "    print(\"sorry no i\")"
   ]
  },
  {
   "cell_type": "code",
   "execution_count": 5,
   "id": "b2f7114e-09ad-4bef-99e5-2d6aaf6cce80",
   "metadata": {},
   "outputs": [
    {
     "name": "stdout",
     "output_type": "stream",
     "text": [
      "0\n",
      "1\n",
      "2\n",
      "3\n",
      "4\n"
     ]
    }
   ],
   "source": [
    "# no more for today cz I'm in vacation :D"
   ]
  },
  {
   "cell_type": "code",
   "execution_count": 9,
   "id": "ae36b8b4-0e8d-4f0b-a603-173418e28dda",
   "metadata": {},
   "outputs": [
    {
     "name": "stdout",
     "output_type": "stream",
     "text": [
      "1\n",
      "2\n",
      "3\n",
      "4\n"
     ]
    }
   ],
   "source": [
    "i=0\n",
    "while i<7:\n",
    "    i=i+1 \n",
    "    print(i)\n",
    "    if i == 4:\n",
    "        break\n",
    "\n",
    "else:\n",
    "    print(\"sorry no i\")"
   ]
  },
  {
   "cell_type": "code",
   "execution_count": null,
   "id": "8ce45c5e-fa78-44fb-a543-de4032ea0806",
   "metadata": {},
   "outputs": [],
   "source": [
    "# no more for today cz I'm in vacation :D"
   ]
  }
 ],
 "metadata": {
  "kernelspec": {
   "display_name": "Python 3 (ipykernel)",
   "language": "python",
   "name": "python3"
  },
  "language_info": {
   "codemirror_mode": {
    "name": "ipython",
    "version": 3
   },
   "file_extension": ".py",
   "mimetype": "text/x-python",
   "name": "python",
   "nbconvert_exporter": "python",
   "pygments_lexer": "ipython3",
   "version": "3.12.4"
  }
 },
 "nbformat": 4,
 "nbformat_minor": 5
}
