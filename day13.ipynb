{
 "cells": [
  {
   "cell_type": "markdown",
   "id": "b268dbfe-327d-410d-8784-1a113eb285e7",
   "metadata": {},
   "source": [
    "## F string"
   ]
  },
  {
   "cell_type": "code",
   "execution_count": 50,
   "id": "dd16f8af-8bbd-4aa7-a569-e1da6a619612",
   "metadata": {},
   "outputs": [
    {
     "name": "stdout",
     "output_type": "stream",
     "text": [
      "My name is Opu and I am from Bangladesh\n",
      "give me 48.03 dollars!\n"
     ]
    }
   ],
   "source": [
    "name=\"Opu\"\n",
    "country=\"Bangladesh\"\n",
    "\n",
    "print(f\"My name is {name} and I am from {country}\")  #using F string method\n",
    "\n",
    "txt= f\"give me {price:.2f} dollars!\" # prints only two decimals points\n",
    "price=48.03333\n",
    "print(txt)\n"
   ]
  },
  {
   "cell_type": "code",
   "execution_count": 44,
   "id": "33290fec-6645-47fa-b113-f08462734844",
   "metadata": {},
   "outputs": [
    {
     "name": "stdout",
     "output_type": "stream",
     "text": [
      "My name is Opu and I am from Bangladesh\n",
      "My name is Opu and I am from Bangladesh\n"
     ]
    }
   ],
   "source": [
    "# This method is also correct but it is not recommended!\n",
    "\n",
    "ltr=\"My name is {} and I am from {}\"\n",
    "name=\"Opu\"\n",
    "country=\"Bangladesh\"\n",
    "print(ltr.format(name,country))\n",
    "\n",
    "ltr1=\"My name is {1} and I am from {0}\"\n",
    "name=\"Opu\"\n",
    "country=\"Bangladesh\"\n",
    "print(ltr1.format(country,name))"
   ]
  },
  {
   "cell_type": "code",
   "execution_count": null,
   "id": "3e0dcd0d-36ff-4634-8662-a6a3bbc37ffa",
   "metadata": {},
   "outputs": [],
   "source": []
  }
 ],
 "metadata": {
  "kernelspec": {
   "display_name": "Python 3 (ipykernel)",
   "language": "python",
   "name": "python3"
  },
  "language_info": {
   "codemirror_mode": {
    "name": "ipython",
    "version": 3
   },
   "file_extension": ".py",
   "mimetype": "text/x-python",
   "name": "python",
   "nbconvert_exporter": "python",
   "pygments_lexer": "ipython3",
   "version": "3.12.4"
  }
 },
 "nbformat": 4,
 "nbformat_minor": 5
}
