{
 "cells": [
  {
   "cell_type": "code",
   "execution_count": 12,
   "id": "81497316-2ae9-4ac1-a722-7ce79221f9e0",
   "metadata": {},
   "outputs": [
    {
     "name": "stdout",
     "output_type": "stream",
     "text": [
      "Here a=10 and b=5\n",
      " \n",
      "a+b= 15\n",
      "a-b= 5\n",
      "a*b= 50\n",
      "a/b= 2.0\n",
      "a%b= 0\n",
      "a//b= 2\n",
      "a**b= 100000\n"
     ]
    }
   ],
   "source": [
    "#Simple Calculator\n",
    "a=10\n",
    "b=5\n",
    "\n",
    "print(\"Here a=10 and b=5\")\n",
    "print(\" \")\n",
    "print(\"a+b=\",a+b)\n",
    "print(\"a-b=\",a-b)\n",
    "print(\"a*b=\",a*b)\n",
    "print(\"a/b=\",a/b)\n",
    "print(\"a%b=\",a%b)\n",
    "print(\"a//b=\",a//b)\n",
    "print(\"a**b=\",a**b)"
   ]
  },
  {
   "cell_type": "code",
   "execution_count": 23,
   "id": "a6174702-fcae-48d9-91c0-cf03b755b051",
   "metadata": {},
   "outputs": [
    {
     "name": "stdout",
     "output_type": "stream",
     "text": [
      "5\n",
      "46\n",
      "11.7\n"
     ]
    }
   ],
   "source": [
    "#Type casting (must be valid)\n",
    "\n",
    "# Explicit Typecasting\n",
    "\n",
    "# string to int\n",
    "a=\"1\"\n",
    "b=\"4\"\n",
    "print(int(a)+int(b))\n",
    "\n",
    "# int to string\n",
    "c=4\n",
    "d=6\n",
    "print(str(c)+str(d))\n",
    "\n",
    "# implcit Typecasting\n",
    "\n",
    "x=6.7\n",
    "y=5\n",
    "print(x+y) #result comes in float data type by default because of the value of x\n"
   ]
  },
  {
   "cell_type": "code",
   "execution_count": 35,
   "id": "24fdae1e-29b2-431e-bbe3-db0484ef090e",
   "metadata": {},
   "outputs": [
    {
     "name": "stdin",
     "output_type": "stream",
     "text": [
      "Enter your name:  opu\n"
     ]
    },
    {
     "name": "stdout",
     "output_type": "stream",
     "text": [
      "My name is opu\n"
     ]
    }
   ],
   "source": [
    "# Taking inputs\n",
    "\n",
    "a=input(\"Enter your name: \")\n",
    "print(\"My name is\", a)"
   ]
  },
  {
   "cell_type": "code",
   "execution_count": 41,
   "id": "0e036382-4bc1-4e1f-be90-109832cef8b3",
   "metadata": {},
   "outputs": [
    {
     "name": "stdin",
     "output_type": "stream",
     "text": [
      "Enter first number: 55\n",
      "Enter second number: 5\n"
     ]
    },
    {
     "name": "stdout",
     "output_type": "stream",
     "text": [
      "Total= 60\n"
     ]
    },
    {
     "name": "stdin",
     "output_type": "stream",
     "text": [
      "Enter first number: 55\n",
      "Enter second number: 5\n"
     ]
    },
    {
     "name": "stdout",
     "output_type": "stream",
     "text": [
      "Total= 60\n"
     ]
    }
   ],
   "source": [
    "#python by default takes input as string\n",
    "\n",
    "# Method 1\n",
    "x=int(input(\"Enter first number:\"))\n",
    "y=int(input(\"Enter second number:\"))\n",
    "print(\"Total=\", x+y)\n",
    "\n",
    "# Method 2\n",
    "i=input(\"Enter first number:\")\n",
    "j=input(\"Enter second number:\")\n",
    "print(\"Total=\", int(i)+int(j))"
   ]
  },
  {
   "cell_type": "code",
   "execution_count": null,
   "id": "b52aa5d9-05e6-4fd0-8e65-ae1bb545e33e",
   "metadata": {},
   "outputs": [],
   "source": []
  }
 ],
 "metadata": {
  "kernelspec": {
   "display_name": "Python 3 (ipykernel)",
   "language": "python",
   "name": "python3"
  },
  "language_info": {
   "codemirror_mode": {
    "name": "ipython",
    "version": 3
   },
   "file_extension": ".py",
   "mimetype": "text/x-python",
   "name": "python",
   "nbconvert_exporter": "python",
   "pygments_lexer": "ipython3",
   "version": "3.12.4"
  }
 },
 "nbformat": 4,
 "nbformat_minor": 5
}
