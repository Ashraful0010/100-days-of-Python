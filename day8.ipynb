{
 "cells": [
  {
   "cell_type": "markdown",
   "id": "59d16bc8-a8e5-4d9e-b097-a1af3bcdb5b7",
   "metadata": {},
   "source": [
    "## Match Case Statement"
   ]
  },
  {
   "cell_type": "code",
   "execution_count": 13,
   "id": "64b2d7c3-8e0e-4d0d-af4f-5245c99a51cc",
   "metadata": {},
   "outputs": [
    {
     "name": "stdin",
     "output_type": "stream",
     "text": [
      "Enter the value of x:  888\n"
     ]
    },
    {
     "name": "stdout",
     "output_type": "stream",
     "text": [
      "x is 888\n",
      "Code runs perfectly\n"
     ]
    }
   ],
   "source": [
    "x=int(input(\"Enter the value of x: \"))\n",
    "# x is the variable to match\n",
    "match x:\n",
    "    case 0:\n",
    "        print(\"x is zero\")\n",
    "    case 5:\n",
    "        print(\"x is five\")\n",
    "    case _:\n",
    "        print(\"x is\",x)\n",
    "print(\"Code runs perfectly\")"
   ]
  },
  {
   "cell_type": "code",
   "execution_count": 17,
   "id": "f8566edc-02a7-4c50-92d5-df3d61117629",
   "metadata": {},
   "outputs": [
    {
     "name": "stdin",
     "output_type": "stream",
     "text": [
      "Enter the value of x:  55\n"
     ]
    },
    {
     "name": "stdout",
     "output_type": "stream",
     "text": [
      "55 is not 90\n",
      "Code runs perfectly\n"
     ]
    }
   ],
   "source": [
    " x=int(input(\"Enter the value of x: \"))\n",
    "# x is the variable to match\n",
    "match x:\n",
    "    case 0:\n",
    "        print(\"x is zero\")\n",
    "    case 5:\n",
    "        print(\"x is five\")\n",
    "        \n",
    "    case _ if x!=90:\n",
    "        print(x, \"is not 90\")\n",
    "    case _ if x!=80:\n",
    "        print(x, \"is not 80\")\n",
    "    case _ if x!=70:\n",
    "        print(x, \"is not 90\")\n",
    "\n",
    "print(\"Code runs perfectly\")"
   ]
  },
  {
   "cell_type": "markdown",
   "id": "b5f5a938-3c23-4cba-9181-54acbef322a6",
   "metadata": {},
   "source": [
    "## Foor loop"
   ]
  },
  {
   "cell_type": "code",
   "execution_count": 52,
   "id": "d404b1ff-a5ab-426e-a995-a4a0573af787",
   "metadata": {},
   "outputs": [
    {
     "name": "stdout",
     "output_type": "stream",
     "text": [
      "1 2 3 4 5 6 7 8 9 10 "
     ]
    }
   ],
   "source": [
    "for i in range(10):\n",
    "    print(i+1, end=\" \")"
   ]
  },
  {
   "cell_type": "code",
   "execution_count": 38,
   "id": "4fcd3be8-4876-4532-b8dc-09aafa54046e",
   "metadata": {},
   "outputs": [
    {
     "name": "stdout",
     "output_type": "stream",
     "text": [
      "Red\n",
      "R\n",
      "e\n",
      "d\n",
      "Yellow\n",
      "Y\n",
      "e\n",
      "l\n",
      "l\n",
      "o\n",
      "w\n",
      "Blue\n",
      "B\n",
      "l\n",
      "u\n",
      "e\n",
      "Green\n",
      "G\n",
      "r\n",
      "e\n",
      "e\n",
      "n\n"
     ]
    }
   ],
   "source": [
    "colors=[\"Red\",\"Yellow\",\"Blue\",\"Green\"]\n",
    "for color in colors:\n",
    "    print(color)\n",
    "    for i in color:\n",
    "        print(i)"
   ]
  },
  {
   "cell_type": "code",
   "execution_count": 58,
   "id": "b0baca7d-835e-4b42-b4df-6249282823e5",
   "metadata": {},
   "outputs": [
    {
     "name": "stdout",
     "output_type": "stream",
     "text": [
      "1 2 3 4 5 6 7 8 9 10 "
     ]
    }
   ],
   "source": [
    "for i in range(1,11): #including 1, excluding 11\n",
    "    print(i,end=\" \")"
   ]
  },
  {
   "cell_type": "code",
   "execution_count": 64,
   "id": "67acb545-bd24-4102-9b60-d9babeb6cc4e",
   "metadata": {},
   "outputs": [
    {
     "name": "stdout",
     "output_type": "stream",
     "text": [
      "1\n",
      "4\n",
      "7\n",
      "10\n"
     ]
    }
   ],
   "source": [
    "for i in range(1,11,3): #third one is step, it skips n number after every value\n",
    "    print(i)"
   ]
  },
  {
   "cell_type": "markdown",
   "id": "56f18958-db76-43bb-a69c-76208cd85c38",
   "metadata": {},
   "source": [
    "## While loop"
   ]
  },
  {
   "cell_type": "code",
   "execution_count": 71,
   "id": "cd2165ee-f438-4c53-82e1-bd09cb32d9b9",
   "metadata": {},
   "outputs": [
    {
     "name": "stdout",
     "output_type": "stream",
     "text": [
      "0\n",
      "1\n",
      "2\n",
      "3\n",
      "4\n"
     ]
    }
   ],
   "source": [
    "i=0\n",
    "while (i<5):\n",
    "    print(i)\n",
    "    i=i+1"
   ]
  },
  {
   "cell_type": "code",
   "execution_count": 73,
   "id": "dd9cf333-cf88-4477-b7fc-87823fac45b9",
   "metadata": {},
   "outputs": [
    {
     "name": "stdin",
     "output_type": "stream",
     "text": [
      "Enter the number:  4\n",
      "Enter the number:  20\n"
     ]
    },
    {
     "name": "stdout",
     "output_type": "stream",
     "text": [
      "20\n"
     ]
    },
    {
     "name": "stdin",
     "output_type": "stream",
     "text": [
      "Enter the number:  4\n"
     ]
    },
    {
     "name": "stdout",
     "output_type": "stream",
     "text": [
      "4\n"
     ]
    },
    {
     "name": "stdin",
     "output_type": "stream",
     "text": [
      "Enter the number:  99\n"
     ]
    },
    {
     "name": "stdout",
     "output_type": "stream",
     "text": [
      "99\n",
      "Done with the loop\n"
     ]
    }
   ],
   "source": [
    "i=int(input(\"Enter the number: \"))\n",
    "while(i<=20):\n",
    "    i=int(input(\"Enter the number: \"))\n",
    "    print(i)\n",
    "print(\"Done with the loop\")"
   ]
  },
  {
   "cell_type": "code",
   "execution_count": 83,
   "id": "4dae5aa7-4a09-4708-bae0-7b89c8c8632f",
   "metadata": {},
   "outputs": [
    {
     "name": "stdout",
     "output_type": "stream",
     "text": [
      "5\n",
      "4\n",
      "3\n",
      "2\n",
      "1\n"
     ]
    }
   ],
   "source": [
    "count=5\n",
    "while(count>0):\n",
    "    print(count)\n",
    "    count=count-1"
   ]
  },
  {
   "cell_type": "code",
   "execution_count": 91,
   "id": "29c5e2c8-478f-4a4c-9a68-c2bb7aad1b5d",
   "metadata": {},
   "outputs": [
    {
     "name": "stdout",
     "output_type": "stream",
     "text": [
      "5\n",
      "4\n",
      "3\n",
      "2\n",
      "1\n",
      "I am inside else\n"
     ]
    }
   ],
   "source": [
    "count=5\n",
    "while(count>0):\n",
    "    print(count)\n",
    "    count=count-1\n",
    "else:\n",
    "    print(\"I am inside else\")"
   ]
  },
  {
   "cell_type": "code",
   "execution_count": null,
   "id": "965dcb1a-32ba-4d98-8f84-1ab82a00b290",
   "metadata": {},
   "outputs": [],
   "source": []
  }
 ],
 "metadata": {
  "kernelspec": {
   "display_name": "Python 3 (ipykernel)",
   "language": "python",
   "name": "python3"
  },
  "language_info": {
   "codemirror_mode": {
    "name": "ipython",
    "version": 3
   },
   "file_extension": ".py",
   "mimetype": "text/x-python",
   "name": "python",
   "nbconvert_exporter": "python",
   "pygments_lexer": "ipython3",
   "version": "3.12.4"
  }
 },
 "nbformat": 4,
 "nbformat_minor": 5
}
