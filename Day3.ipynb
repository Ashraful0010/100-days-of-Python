{
 "cells": [
  {
   "cell_type": "code",
   "execution_count": 22,
   "id": "a3df201d-75e3-4f63-a2c9-b0c084d8a4d1",
   "metadata": {},
   "outputs": [
    {
     "name": "stdout",
     "output_type": "stream",
     "text": [
      "Day 1 of 100 days of learning python \n",
      "Start date: 21.10.2024\n"
     ]
    }
   ],
   "source": [
    "print(\"Day 1 of 100 days of learning python \\nStart date: 21.10.2024\")\n"
   ]
  },
  {
   "cell_type": "code",
   "execution_count": 28,
   "id": "160abcb0-b4b8-49f2-bca7-30bd13f77e46",
   "metadata": {},
   "outputs": [
    {
     "name": "stdout",
     "output_type": "stream",
     "text": [
      "12\n",
      "8\n",
      "20\n",
      "5.0\n",
      "0\n",
      "100\n"
     ]
    }
   ],
   "source": [
    "a=10\n",
    "b=2\n",
    "#arithmetic operators\n",
    "print(a+b)\n",
    "print(a-b)\n",
    "print(a*b)\n",
    "print(a/b)\n",
    "print(a%b)\n",
    "print(a**b)\n"
   ]
  },
  {
   "cell_type": "code",
   "execution_count": 36,
   "id": "291961ff-b06b-4596-8606-65fbb02cd73c",
   "metadata": {},
   "outputs": [
    {
     "name": "stdout",
     "output_type": "stream",
     "text": [
      "Hey^6^7 GG\n",
      "Opu\n"
     ]
    }
   ],
   "source": [
    "print(\"Hey\", 6,7, sep=\"^\", end=\" GG\\n\")  # we use \\n to create a new line\n",
    "print(\"Opu\")"
   ]
  },
  {
   "cell_type": "code",
   "execution_count": null,
   "id": "e6d66045-4e24-47fa-bf76-91fbe7449168",
   "metadata": {},
   "outputs": [],
   "source": []
  }
 ],
 "metadata": {
  "kernelspec": {
   "display_name": "Python 3 (ipykernel)",
   "language": "python",
   "name": "python3"
  },
  "language_info": {
   "codemirror_mode": {
    "name": "ipython",
    "version": 3
   },
   "file_extension": ".py",
   "mimetype": "text/x-python",
   "name": "python",
   "nbconvert_exporter": "python",
   "pygments_lexer": "ipython3",
   "version": "3.12.4"
  }
 },
 "nbformat": 4,
 "nbformat_minor": 5
}
