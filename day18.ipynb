{
 "cells": [
  {
   "cell_type": "markdown",
   "id": "053d3249-f008-4905-a74b-ed9e1e30abad",
   "metadata": {},
   "source": [
    "## Exception Handling"
   ]
  },
  {
   "cell_type": "code",
   "execution_count": 15,
   "id": "fa0808c1-8a55-4981-a0f0-04aa55325b4f",
   "metadata": {},
   "outputs": [
    {
     "name": "stdin",
     "output_type": "stream",
     "text": [
      "Enter a number:  opu\n"
     ]
    },
    {
     "name": "stdout",
     "output_type": "stream",
     "text": [
      "Multiplication table of opu is : \n",
      "invalid literal for int() with base 10: 'opu'\n",
      "Lines of code\n"
     ]
    }
   ],
   "source": [
    "a=input(\"Enter a number: \")\n",
    "print(f\"Multiplication table of {a} is : \")\n",
    "\n",
    "try:\n",
    "    for i in range(1,11):\n",
    "        print(f\"{int(a)} * {i} = {int(a)*i} \")\n",
    "except Exception as e:\n",
    "    print(e)\n",
    "    \n",
    "print(\"Lines of code\")"
   ]
  },
  {
   "cell_type": "code",
   "execution_count": 17,
   "id": "b9c27184-4e37-47da-b50f-108bdbc9eb3b",
   "metadata": {},
   "outputs": [
    {
     "name": "stdin",
     "output_type": "stream",
     "text": [
      "Enter a number:  p\n"
     ]
    },
    {
     "name": "stdout",
     "output_type": "stream",
     "text": [
      "Multiplication table of p is : \n",
      "Sorry invalid input!\n",
      "Last line of code!\n"
     ]
    }
   ],
   "source": [
    "a=input(\"Enter a number: \")\n",
    "print(f\"Multiplication table of {a} is : \")\n",
    "\n",
    "try:\n",
    "    for i in range(1,11):\n",
    "        print(f\"{int(a)} * {i} = {int(a)*i} \")\n",
    "except:\n",
    "    print(\"Sorry invalid input!\")\n",
    "\n",
    "print(\"Last line of code!\")\n",
    "    "
   ]
  },
  {
   "cell_type": "code",
   "execution_count": 23,
   "id": "93336283-84ac-4b2d-b9bb-5d91db5f7923",
   "metadata": {},
   "outputs": [
    {
     "name": "stdin",
     "output_type": "stream",
     "text": [
      "Enter a integer:  8\n"
     ]
    },
    {
     "name": "stdout",
     "output_type": "stream",
     "text": [
      "Index error!\n"
     ]
    }
   ],
   "source": [
    "try:\n",
    "    num=int(input(\"Enter a integer: \"))\n",
    "    a=[6,3]\n",
    "    print(a[num])\n",
    "    \n",
    "except ValueError:\n",
    "    print(\"Invalid imput!\")\n",
    "except IndexError:\n",
    "    print(\"Index error!\")"
   ]
  },
  {
   "cell_type": "code",
   "execution_count": null,
   "id": "41025906-6bb9-40d1-b2c9-0b682f3ed4ea",
   "metadata": {},
   "outputs": [],
   "source": []
  }
 ],
 "metadata": {
  "kernelspec": {
   "display_name": "Python 3 (ipykernel)",
   "language": "python",
   "name": "python3"
  },
  "language_info": {
   "codemirror_mode": {
    "name": "ipython",
    "version": 3
   },
   "file_extension": ".py",
   "mimetype": "text/x-python",
   "name": "python",
   "nbconvert_exporter": "python",
   "pygments_lexer": "ipython3",
   "version": "3.12.4"
  }
 },
 "nbformat": 4,
 "nbformat_minor": 5
}
