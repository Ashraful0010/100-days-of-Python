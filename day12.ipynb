{
 "cells": [
  {
   "cell_type": "markdown",
   "id": "3f786e92-dd75-4391-ab01-946722d6f8ba",
   "metadata": {},
   "source": [
    "## Making a KBC "
   ]
  },
  {
   "cell_type": "code",
   "execution_count": 32,
   "id": "7f36669b-6eef-45e8-a367-d4849667db78",
   "metadata": {},
   "outputs": [
    {
     "name": "stdin",
     "output_type": "stream",
     "text": [
      "What is your name? opu\n"
     ]
    },
    {
     "name": "stdout",
     "output_type": "stream",
     "text": [
      "So, opu Let's start KBC!\n",
      "\"What is the capital of Bangladesh? Options: 1. Dhaka  2. Mymensingh  3. Narayanganj  4. Sherpur\",\n",
      "\"What is the name of the currency of Bangladesh? Options: 1. Dollar  2. Taka  3. Ringit 4. Rupay\",\n",
      "\"What is the longest beach in the world? Options: 1. Goa  2. Cox's Bazar  3. Kolatoli  4. Bali\"\n"
     ]
    },
    {
     "name": "stdin",
     "output_type": "stream",
     "text": [
      "Type your answer:  opu\n"
     ]
    },
    {
     "ename": "ValueError",
     "evalue": "invalid literal for int() with base 10: 'opu'",
     "output_type": "error",
     "traceback": [
      "\u001b[1;31m---------------------------------------------------------------------------\u001b[0m",
      "\u001b[1;31mValueError\u001b[0m                                Traceback (most recent call last)",
      "Cell \u001b[1;32mIn[32], line 12\u001b[0m\n\u001b[0;32m     10\u001b[0m \u001b[38;5;66;03m# for i in ques:\u001b[39;00m\n\u001b[0;32m     11\u001b[0m \u001b[38;5;28mprint\u001b[39m(ques[\u001b[38;5;241m0\u001b[39m])\n\u001b[1;32m---> 12\u001b[0m ans1\u001b[38;5;241m=\u001b[39m\u001b[38;5;28mint\u001b[39m(\u001b[38;5;28minput\u001b[39m(\u001b[38;5;124m\"\u001b[39m\u001b[38;5;124mType your answer: \u001b[39m\u001b[38;5;124m\"\u001b[39m))\n\u001b[0;32m     13\u001b[0m \u001b[38;5;28;01mif\u001b[39;00m ans1\u001b[38;5;241m==\u001b[39m\u001b[38;5;241m1\u001b[39m:\n\u001b[0;32m     14\u001b[0m     \u001b[38;5;28mprint\u001b[39m(\u001b[38;5;124m\"\u001b[39m\u001b[38;5;124mThis is the right answer!\u001b[39m\u001b[38;5;124m\"\u001b[39m)\n",
      "\u001b[1;31mValueError\u001b[0m: invalid literal for int() with base 10: 'opu'"
     ]
    }
   ],
   "source": [
    "name=str(input(\"What is your name?\"))\n",
    "print(\"So,\",name,\"Let's start KBC!\")\n",
    "\n",
    "ques=['''\"What is the capital of Bangladesh? Options: 1. Dhaka  2. Mymensingh  3. Narayanganj  4. Sherpur\",\n",
    "\"What is the name of the currency of Bangladesh? Options: 1. Dollar  2. Taka  3. Ringit 4. Rupay\",\n",
    "\"What is the longest beach in the world? Options: 1. Goa  2. Cox's Bazar  3. Kolatoli  4. Bali\"''']\n",
    "\n",
    "wallet=0\n",
    "\n",
    "for i in ques:\n",
    "    print(ques[0])\n",
    "    ans1=int(input(\"Type your answer: \"))\n",
    "    if ans1==1:\n",
    "        print(\"This is the right answer!\")\n",
    "        wallet=wallet+100\n",
    "        i=i+1\n",
    "        \n",
    "    else:\n",
    "        print(\"This is the wrong answer!\")\n",
    "    \n"
   ]
  },
  {
   "cell_type": "code",
   "execution_count": null,
   "id": "a7474eff-4a8a-4c7c-bd22-df68ea78a5a1",
   "metadata": {},
   "outputs": [],
   "source": []
  }
 ],
 "metadata": {
  "kernelspec": {
   "display_name": "Python 3 (ipykernel)",
   "language": "python",
   "name": "python3"
  },
  "language_info": {
   "codemirror_mode": {
    "name": "ipython",
    "version": 3
   },
   "file_extension": ".py",
   "mimetype": "text/x-python",
   "name": "python",
   "nbconvert_exporter": "python",
   "pygments_lexer": "ipython3",
   "version": "3.12.4"
  }
 },
 "nbformat": 4,
 "nbformat_minor": 5
}
