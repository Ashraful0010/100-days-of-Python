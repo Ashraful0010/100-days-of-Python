{
 "cells": [
  {
   "cell_type": "code",
   "execution_count": 8,
   "id": "a0464353-1045-4281-a0e3-418f173891cb",
   "metadata": {},
   "outputs": [
    {
     "name": "stdout",
     "output_type": "stream",
     "text": [
      "ASHRAFUL\n",
      "opu\n"
     ]
    }
   ],
   "source": [
    "a=\"Ashraful\"\n",
    "print(a.upper()) #to convert a string to upper case\n",
    "\n",
    "b=\"OPU\"\n",
    "print(b.lower()) #to convert a string to lower case"
   ]
  },
  {
   "cell_type": "code",
   "execution_count": 10,
   "id": "89636942-067b-4e7b-9d33-a4c38a10399d",
   "metadata": {},
   "outputs": [
    {
     "name": "stdout",
     "output_type": "stream",
     "text": [
      "opu\n"
     ]
    }
   ],
   "source": [
    "#rstrip method\n",
    "a=\"opu!!!!!!!!!\"\n",
    "print(a.rstrip(\"!\")) #it will erase the sgiven symble from the string\n"
   ]
  },
  {
   "cell_type": "code",
   "execution_count": 12,
   "id": "7988ed65-2363-472b-bf8a-04e49b4914e5",
   "metadata": {},
   "outputs": [
    {
     "name": "stdout",
     "output_type": "stream",
     "text": [
      "Omen\n"
     ]
    }
   ],
   "source": [
    "#replace method\n",
    "a=\"Opu\"\n",
    "print(a.replace(\"Opu\", \"Omen\")) #it replaces all occurances of a string with another string"
   ]
  },
  {
   "cell_type": "code",
   "execution_count": 14,
   "id": "0e993dd6-f893-4f27-be30-d9dbcacf9d36",
   "metadata": {},
   "outputs": [
    {
     "name": "stdout",
     "output_type": "stream",
     "text": [
      "['Ashraful', 'Islam', 'Opu']\n"
     ]
    }
   ],
   "source": [
    "# split method\n",
    "a=\"Ashraful Islam Opu\"\n",
    "print(a.split(\" \")) #it splits the given string at the specified instance and returns the separated strings as list items "
   ]
  },
  {
   "cell_type": "code",
   "execution_count": 16,
   "id": "302abef0-e123-431a-9a37-1ea2383e4229",
   "metadata": {},
   "outputs": [
    {
     "name": "stdout",
     "output_type": "stream",
     "text": [
      "Hi my name is opu. i am a student of computer science.\n"
     ]
    }
   ],
   "source": []
  },
  {
   "cell_type": "code",
   "execution_count": 18,
   "id": "83737556-e174-46fd-ae35-ad37b27fba1d",
   "metadata": {},
   "outputs": [
    {
     "name": "stdout",
     "output_type": "stream",
     "text": [
      "3\n"
     ]
    }
   ],
   "source": [
    "# count method\n",
    "a=\"Hala Madrid\"\n",
    "print(a.count(\"a\")) #it returns the number of times the given value has occured within the given string."
   ]
  },
  {
   "cell_type": "code",
   "execution_count": 20,
   "id": "c7d7a67c-7032-4ab4-a75c-f0ed5973f36e",
   "metadata": {},
   "outputs": [
    {
     "name": "stdout",
     "output_type": "stream",
     "text": [
      "True\n"
     ]
    }
   ],
   "source": [
    "# endswith method\n",
    "a=\"Welcome to day 7!!!\"\n",
    "print(a.endswith(\"!!!\")) #it checks the string ends with a given value. If yes then return true, else return false."
   ]
  },
  {
   "cell_type": "code",
   "execution_count": 22,
   "id": "8edfad2b-0f9f-4e34-aa38-e2a3afd25279",
   "metadata": {},
   "outputs": [
    {
     "name": "stdout",
     "output_type": "stream",
     "text": [
      "6\n"
     ]
    }
   ],
   "source": [
    "# find method\n",
    "a=\"Hi my name is Opu\"\n",
    "print(a.find(\"name\")) #it finds a given value in the strings and returns its index of first occurrence"
   ]
  },
  {
   "cell_type": "code",
   "execution_count": 28,
   "id": "771e7597-ea90-490a-aaef-9341da6142a9",
   "metadata": {},
   "outputs": [
    {
     "name": "stdin",
     "output_type": "stream",
     "text": [
      "Enter your age: 18\n"
     ]
    },
    {
     "name": "stdout",
     "output_type": "stream",
     "text": [
      "Your age is: 18\n",
      "You can drive\n"
     ]
    }
   ],
   "source": [
    "# if else statement\n",
    "a=int(input(\"Enter your age:\"))\n",
    "print(\"Your age is:\",a)\n",
    "\n",
    "if(a>=18):\n",
    "    print(\"You can drive\")\n",
    "else:\n",
    "    print(\"You cannot drive\")"
   ]
  },
  {
   "cell_type": "code",
   "execution_count": 32,
   "id": "1c5b5363-7284-475d-8cbd-e2627cf26351",
   "metadata": {},
   "outputs": [
    {
     "name": "stdout",
     "output_type": "stream",
     "text": [
      "Gareeb!\n"
     ]
    }
   ],
   "source": [
    "appleprice=210\n",
    "budget=200\n",
    "if(appleprice <= budget):\n",
    "    print(\"AAlexa, add 1kg apple to the cart\")\n",
    "else:\n",
    "    print(\"Gareeb!\")"
   ]
  },
  {
   "cell_type": "code",
   "execution_count": 38,
   "id": "9052df9f-89e8-4b97-b385-5e57582f6652",
   "metadata": {},
   "outputs": [
    {
     "name": "stdin",
     "output_type": "stream",
     "text": [
      "Enter the value of num: 0\n"
     ]
    },
    {
     "name": "stdout",
     "output_type": "stream",
     "text": [
      "Number is zero\n"
     ]
    }
   ],
   "source": [
    "num=int(input(\"Enter the value of num:\"))\n",
    "if(num<0):\n",
    "    print(\"Number is negative\")\n",
    "elif(num==0):\n",
    "    print(\"Number is zero\")\n",
    "else:\n",
    "    print(\"Number is positive\")"
   ]
  },
  {
   "cell_type": "code",
   "execution_count": 52,
   "id": "9135a3ee-97fc-49fa-a438-d6081f4752cf",
   "metadata": {},
   "outputs": [
    {
     "name": "stdin",
     "output_type": "stream",
     "text": [
      "Enter the value of num: 55\n"
     ]
    },
    {
     "name": "stdout",
     "output_type": "stream",
     "text": [
      "Num is bigger than 20\n",
      "Program executed successfully\n"
     ]
    }
   ],
   "source": [
    "#nested if statement\n",
    "\n",
    "num=int(input(\"Enter the value of num:\"))\n",
    "if(num<0):\n",
    "    print(\"Num is negative\")\n",
    "elif(num>0):\n",
    "    if(num<=10):\n",
    "        print(\"Num is between 1-10\")\n",
    "    elif(num>10 and num<20):\n",
    "        print(\"Num is between 11-19\")\n",
    "    elif(num==20):\n",
    "        print(\"Num is 20\")\n",
    "    elif(num>20):\n",
    "        print(\"Num is bigger than 20\")\n",
    "else:\n",
    "    print(\"Num is zero\")\n",
    "print(\"Program executed successfully\")"
   ]
  },
  {
   "cell_type": "code",
   "execution_count": 71,
   "id": "f17324f1-b133-4bfa-82db-7150d693aeaa",
   "metadata": {},
   "outputs": [
    {
     "name": "stdin",
     "output_type": "stream",
     "text": [
      "Enter your time (only hour): 15\n"
     ]
    },
    {
     "name": "stdout",
     "output_type": "stream",
     "text": [
      "Good afternoon!\n"
     ]
    }
   ],
   "source": [
    "#simple program to greet according time!\n",
    "timestamp=int(input(\"Enter your time (only hour):\"))\n",
    "if(timestamp>6 and timestamp<12):\n",
    "    print(\"Good morning!\")\n",
    "elif(timestamp>=12 and timestamp<18):\n",
    "    print(\"Good afternoon!\")\n",
    "elif(timestamp>=18 and timestamp<24):\n",
    "    print(\"Good evening!\")\n",
    "else:\n",
    "    print(\"Good night!\")"
   ]
  },
  {
   "cell_type": "code",
   "execution_count": null,
   "id": "13569202-6816-4244-b79b-4ad29139eb56",
   "metadata": {},
   "outputs": [],
   "source": []
  }
 ],
 "metadata": {
  "kernelspec": {
   "display_name": "Python 3 (ipykernel)",
   "language": "python",
   "name": "python3"
  },
  "language_info": {
   "codemirror_mode": {
    "name": "ipython",
    "version": 3
   },
   "file_extension": ".py",
   "mimetype": "text/x-python",
   "name": "python",
   "nbconvert_exporter": "python",
   "pygments_lexer": "ipython3",
   "version": "3.12.4"
  }
 },
 "nbformat": 4,
 "nbformat_minor": 5
}
