{
 "cells": [
  {
   "cell_type": "code",
   "execution_count": 12,
   "id": "81497316-2ae9-4ac1-a722-7ce79221f9e0",
   "metadata": {},
   "outputs": [
    {
     "name": "stdout",
     "output_type": "stream",
     "text": [
      "Here a=10 and b=5\n",
      " \n",
      "a+b= 15\n",
      "a-b= 5\n",
      "a*b= 50\n",
      "a/b= 2.0\n",
      "a%b= 0\n",
      "a//b= 2\n",
      "a**b= 100000\n"
     ]
    }
   ],
   "source": [
    "#Simple Calculator\n",
    "a=10\n",
    "b=5\n",
    "\n",
    "print(\"Here a=10 and b=5\")\n",
    "print(\" \")\n",
    "print(\"a+b=\",a+b)\n",
    "print(\"a-b=\",a-b)\n",
    "print(\"a*b=\",a*b)\n",
    "print(\"a/b=\",a/b)\n",
    "print(\"a%b=\",a%b)\n",
    "print(\"a//b=\",a//b)\n",
    "print(\"a**b=\",a**b)"
   ]
  },
  {
   "cell_type": "code",
   "execution_count": null,
   "id": "a6174702-fcae-48d9-91c0-cf03b755b051",
   "metadata": {},
   "outputs": [],
   "source": []
  }
 ],
 "metadata": {
  "kernelspec": {
   "display_name": "Python 3 (ipykernel)",
   "language": "python",
   "name": "python3"
  },
  "language_info": {
   "codemirror_mode": {
    "name": "ipython",
    "version": 3
   },
   "file_extension": ".py",
   "mimetype": "text/x-python",
   "name": "python",
   "nbconvert_exporter": "python",
   "pygments_lexer": "ipython3",
   "version": "3.12.4"
  }
 },
 "nbformat": 4,
 "nbformat_minor": 5
}
