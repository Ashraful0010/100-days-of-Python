{
 "cells": [
  {
   "cell_type": "markdown",
   "id": "b268dbfe-327d-410d-8784-1a113eb285e7",
   "metadata": {},
   "source": [
    "## F string"
   ]
  },
  {
   "cell_type": "code",
   "execution_count": 50,
   "id": "dd16f8af-8bbd-4aa7-a569-e1da6a619612",
   "metadata": {},
   "outputs": [
    {
     "name": "stdout",
     "output_type": "stream",
     "text": [
      "My name is Opu and I am from Bangladesh\n",
      "give me 48.03 dollars!\n"
     ]
    }
   ],
   "source": [
    "name=\"Opu\"\n",
    "country=\"Bangladesh\"\n",
    "\n",
    "print(f\"My name is {name} and I am from {country}\")  #using F string method\n",
    "\n",
    "txt= f\"give me {price:.2f} dollars!\" # prints only two decimals points\n",
    "price=48.03333\n",
    "print(txt)\n"
   ]
  },
  {
   "cell_type": "code",
   "execution_count": 44,
   "id": "33290fec-6645-47fa-b113-f08462734844",
   "metadata": {},
   "outputs": [
    {
     "name": "stdout",
     "output_type": "stream",
     "text": [
      "My name is Opu and I am from Bangladesh\n",
      "My name is Opu and I am from Bangladesh\n"
     ]
    }
   ],
   "source": [
    "# This method is also correct but it is not recommended!\n",
    "\n",
    "ltr=\"My name is {} and I am from {}\"\n",
    "name=\"Opu\"\n",
    "country=\"Bangladesh\"\n",
    "print(ltr.format(name,country))\n",
    "\n",
    "ltr1=\"My name is {1} and I am from {0}\"\n",
    "name=\"Opu\"\n",
    "country=\"Bangladesh\"\n",
    "print(ltr1.format(country,name))"
   ]
  },
  {
   "cell_type": "markdown",
   "id": "8b3fb585-72df-4827-869d-13deb830a798",
   "metadata": {},
   "source": [
    "## Docstrings"
   ]
  },
  {
   "cell_type": "code",
   "execution_count": 53,
   "id": "9af8a3fd-cda7-44e9-8e53-7b25a143dd37",
   "metadata": {},
   "outputs": [
    {
     "name": "stdout",
     "output_type": "stream",
     "text": [
      "25\n"
     ]
    }
   ],
   "source": [
    "def square(n):\n",
    "    '''Takes in a number n, returns square of n'''\n",
    "    print(n**2)\n",
    "square(5)"
   ]
  },
  {
   "cell_type": "markdown",
   "id": "6965b159-776e-4d48-875e-95779f4be2b9",
   "metadata": {},
   "source": [
    "## Recursion"
   ]
  },
  {
   "cell_type": "code",
   "execution_count": 70,
   "id": "b835177e-7121-4ea9-a414-131fdf5e35df",
   "metadata": {},
   "outputs": [
    {
     "name": "stdout",
     "output_type": "stream",
     "text": [
      "120\n"
     ]
    }
   ],
   "source": [
    "#factorial\n",
    "def factorial(n):\n",
    "    if(n==0 or n==1):\n",
    "        return 1\n",
    "    else:\n",
    "        return n*factorial(n-1)\n",
    "    \n",
    "# print(factorial(3))\n",
    "# print(factorial(4))\n",
    "print(factorial(5))\n",
    "# 5 * factorial(4)\n",
    "# 5 * 4 * factorial(3)\n",
    "# 5 * 4 * 3 * factorial(2)\n",
    "# 5 * 4 * 3 * 2 * factorial(1)\n",
    "# 5 * 4 * 3 * 2 * 1"
   ]
  },
  {
   "cell_type": "code",
   "execution_count": 100,
   "id": "fe33fe8a-0a90-4ffb-9650-0e7066d52071",
   "metadata": {},
   "outputs": [
    {
     "name": "stdout",
     "output_type": "stream",
     "text": [
      "Fibonacci sequence of 45 th number is:  87\n"
     ]
    }
   ],
   "source": [
    "# Fibonacci\n",
    "def fibonacci(n):\n",
    "    if(n==0):\n",
    "        print(\"Fibonacci sequence of\",n,\"th number is: \",0)\n",
    "    elif(n==1):\n",
    "        print(\"Fibonacci sequence of\",n,\"th number is: \",1)\n",
    "    else:\n",
    "        print(\"Fibonacci sequence of\",n,\"th number is: \",(n-1)+(n-2))\n",
    "\n",
    "fibonacci(45)"
   ]
  },
  {
   "cell_type": "code",
   "execution_count": null,
   "id": "39b44ef6-7be3-461d-ad60-66f6b1b0ed0b",
   "metadata": {},
   "outputs": [],
   "source": []
  },
  {
   "cell_type": "code",
   "execution_count": null,
   "id": "5a1042c0-ef2b-48df-9a0a-32658a3776a4",
   "metadata": {},
   "outputs": [],
   "source": []
  }
 ],
 "metadata": {
  "kernelspec": {
   "display_name": "Python 3 (ipykernel)",
   "language": "python",
   "name": "python3"
  },
  "language_info": {
   "codemirror_mode": {
    "name": "ipython",
    "version": 3
   },
   "file_extension": ".py",
   "mimetype": "text/x-python",
   "name": "python",
   "nbconvert_exporter": "python",
   "pygments_lexer": "ipython3",
   "version": "3.12.4"
  }
 },
 "nbformat": 4,
 "nbformat_minor": 5
}
