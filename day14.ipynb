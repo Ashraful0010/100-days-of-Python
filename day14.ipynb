{
 "cells": [
  {
   "cell_type": "markdown",
   "id": "7f38209c-5c80-4f92-bb6f-6eb48d5937e6",
   "metadata": {},
   "source": [
    "## Set and Set methods"
   ]
  },
  {
   "cell_type": "code",
   "execution_count": 39,
   "id": "bdd222e5-ba1f-4d5b-a8ab-6274050dad82",
   "metadata": {},
   "outputs": [
    {
     "name": "stdout",
     "output_type": "stream",
     "text": [
      "{2, 4, 5, 6}\n",
      "{True, 2.5, 'Opu', 22}\n",
      "<class 'set'>\n",
      "<class 'set'>\n",
      "True\n",
      "2.5\n",
      "Opu\n",
      "22\n"
     ]
    }
   ],
   "source": [
    "s= {2,4,2,6,5}\n",
    "print(s)\n",
    "\n",
    "info={\"Opu\",22,True,2.5,22}\n",
    "print(info)\n",
    "print(type(info))\n",
    "\n",
    "epm=set() # empty set\n",
    "print(type(epm))\n",
    "\n",
    "for value in info:\n",
    "    print(value)"
   ]
  },
  {
   "cell_type": "code",
   "execution_count": 61,
   "id": "675074d7-ccc7-4fc7-a146-9240a008e009",
   "metadata": {},
   "outputs": [
    {
     "name": "stdout",
     "output_type": "stream",
     "text": [
      "{1, 2, 3, 4, 5, 6, 7, 9}\n",
      "{4, 6, 7}\n",
      "{1, 2, 3, 4, 5, 6, 7, 9} {2, 3, 4, 6, 7, 9}\n"
     ]
    }
   ],
   "source": [
    "s1={1,5,6,4,7}\n",
    "s2={4,9,6,3,2,7}\n",
    "print(s1.union(s2))\n",
    "print(s1.intersection(s2))\n",
    "\n",
    "s1.update(s2) # updates the value of s1 and ands the value of s2 in s1\n",
    "print(s1,s2)\n"
   ]
  },
  {
   "cell_type": "code",
   "execution_count": 63,
   "id": "c3187ff1-354d-44ef-80d3-dca418204de1",
   "metadata": {},
   "outputs": [
    {
     "name": "stdout",
     "output_type": "stream",
     "text": [
      "{4, 6, 7}\n"
     ]
    }
   ],
   "source": [
    "s1={1,5,6,4,7}\n",
    "s2={4,9,6,3,2,7}\n",
    "\n",
    "s1.intersection_update(s2)\n",
    "print(s1)"
   ]
  },
  {
   "cell_type": "code",
   "execution_count": 65,
   "id": "fd22753b-4143-42da-97b9-2e551287e2a9",
   "metadata": {},
   "outputs": [
    {
     "name": "stdout",
     "output_type": "stream",
     "text": [
      "{'Sherpur', 'Berlin'}\n"
     ]
    }
   ],
   "source": [
    "cities1={\"Perth\",\"Berlin\",\"Dhaka\",\"Jeddah\"}\n",
    "cities2={\"Dhaka\",\"Sherpur\",\"Perth\",\"Jeddah\"}\n",
    "cities3=cities1.symmetric_difference(cities2)  # this method shows the uncommon value from two sets\n",
    "print(cities3)"
   ]
  },
  {
   "cell_type": "code",
   "execution_count": 69,
   "id": "6357b3c3-bd94-46e6-86eb-2f0601c5f887",
   "metadata": {},
   "outputs": [
    {
     "name": "stdout",
     "output_type": "stream",
     "text": [
      "{'Berlin'}\n"
     ]
    }
   ],
   "source": [
    "cities1={\"Perth\",\"Berlin\",\"Dhaka\",\"Jeddah\"}\n",
    "cities2={\"Dhaka\",\"Sherpur\",\"Perth\",\"Jeddah\"}\n",
    "cities3=cities1.difference(cities2)  # this method shows the the value which is present in cities1 but not in cities2\n",
    "print(cities3)"
   ]
  },
  {
   "cell_type": "code",
   "execution_count": 73,
   "id": "53b31605-4740-4877-b1ab-01882ed4e994",
   "metadata": {},
   "outputs": [
    {
     "name": "stdout",
     "output_type": "stream",
     "text": [
      "{'Jeddah', 'Sherpur', 'Berlin', 'Dhaka', 'Perth'}\n"
     ]
    }
   ],
   "source": [
    "cities={\"Perth\",\"Berlin\",\"Dhaka\",\"Jeddah\"}\n",
    "cities.add(\"Sherpur\")\n",
    "print(cities)"
   ]
  },
  {
   "cell_type": "code",
   "execution_count": 85,
   "id": "8b4e7e33-e8e8-410e-a634-18a37dfd4c20",
   "metadata": {},
   "outputs": [
    {
     "name": "stdout",
     "output_type": "stream",
     "text": [
      "{'Berlin', 'Jeddah', 'Perth'}\n"
     ]
    }
   ],
   "source": [
    "cities={\"Perth\",\"Berlin\",\"Dhaka\",\"Jeddah\"}\n",
    "cities.remove(\"Dhaka\")\n",
    "print(cities)"
   ]
  },
  {
   "cell_type": "code",
   "execution_count": 89,
   "id": "f1cad5b9-4a02-4a63-86d9-6d47d161947a",
   "metadata": {},
   "outputs": [
    {
     "name": "stdout",
     "output_type": "stream",
     "text": [
      "{'Dhaka', 'Jeddah', 'Perth'}\n",
      "Berlin\n"
     ]
    }
   ],
   "source": [
    "cities={\"Perth\",\"Berlin\",\"Dhaka\",\"Jeddah\"}\n",
    "item=cities.pop()\n",
    "print(cities)\n",
    "print(item)"
   ]
  },
  {
   "cell_type": "code",
   "execution_count": 93,
   "id": "19dd3c3e-c4c0-495e-a34a-66951fad34a0",
   "metadata": {},
   "outputs": [
    {
     "name": "stdout",
     "output_type": "stream",
     "text": [
      "set()\n"
     ]
    }
   ],
   "source": [
    "cities={\"Perth\",\"Berlin\",\"Dhaka\",\"Jeddah\"}\n",
    "cities.clear() # clears every element of the set \n",
    "print(cities)"
   ]
  },
  {
   "cell_type": "code",
   "execution_count": null,
   "id": "81d01fa8-6841-4ecc-95b7-6211ee6c9c59",
   "metadata": {},
   "outputs": [],
   "source": []
  }
 ],
 "metadata": {
  "kernelspec": {
   "display_name": "Python 3 (ipykernel)",
   "language": "python",
   "name": "python3"
  },
  "language_info": {
   "codemirror_mode": {
    "name": "ipython",
    "version": 3
   },
   "file_extension": ".py",
   "mimetype": "text/x-python",
   "name": "python",
   "nbconvert_exporter": "python",
   "pygments_lexer": "ipython3",
   "version": "3.12.4"
  }
 },
 "nbformat": 4,
 "nbformat_minor": 5
}
